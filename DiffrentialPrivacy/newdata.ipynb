{
 "cells": [
  {
   "cell_type": "code",
   "execution_count": 1,
   "id": "b6201f0b-a3cb-45ff-95ec-334665696371",
   "metadata": {},
   "outputs": [],
   "source": [
    "import pandas as pd\n",
    "import matplotlib.pyplot as plt\n",
    "import seaborn as sns\n",
    "from sklearn.model_selection import train_test_split\n",
    "from sklearn.preprocessing import LabelEncoder\n",
    "from sklearn.ensemble import RandomForestClassifier\n",
    "from sklearn.preprocessing import MinMaxScaler"
   ]
  },
  {
   "cell_type": "code",
   "execution_count": 5,
   "id": "3ea34e0b-d5be-4306-875d-468b616c2ec5",
   "metadata": {},
   "outputs": [],
   "source": [
    "df = pd.read_csv('Train.csv')\n",
    "df_clean= df.dropna()\n",
    "df.drop('ID',axis=1)\n",
    "tr_df,ts_df=train_test_split(df_clean, test_size=0.2, random_state=42)\n",
    "\n",
    "tr_df.to_csv('train_data.csv', index=False)\n",
    "ts_df.to_csv('test_data.csv', index=False)\n",
    "X = df_clean.drop(columns=[\"Segmentation\"]) \n",
    "Y = df_clean[\"Segmentation\"]  \n",
    "\n"
   ]
  },
  {
   "cell_type": "code",
   "execution_count": null,
   "id": "c5732801-6fb4-4c60-849c-19fab870fdad",
   "metadata": {},
   "outputs": [],
   "source": []
  }
 ],
 "metadata": {
  "kernelspec": {
   "display_name": "Python 3 (ipykernel)",
   "language": "python",
   "name": "python3"
  },
  "language_info": {
   "codemirror_mode": {
    "name": "ipython",
    "version": 3
   },
   "file_extension": ".py",
   "mimetype": "text/x-python",
   "name": "python",
   "nbconvert_exporter": "python",
   "pygments_lexer": "ipython3",
   "version": "3.11.8"
  }
 },
 "nbformat": 4,
 "nbformat_minor": 5
}
